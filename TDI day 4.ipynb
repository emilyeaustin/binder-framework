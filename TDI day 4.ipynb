{
 "cells": [
  {
   "cell_type": "markdown",
   "id": "970e3473-514a-46da-9509-549e0220ad64",
   "metadata": {},
   "source": [
    "## TDI 12 Day Course Day 4: Pandas and Day 5: plotting\n",
    "Emily E. Austin"
   ]
  },
  {
   "cell_type": "code",
   "execution_count": 60,
   "id": "cf6301eb-3ab5-4329-869b-1bd28fa2d15d",
   "metadata": {},
   "outputs": [],
   "source": [
    "import pandas as pd\n",
    "import os\n",
    "import matplotlib.pyplot as plt\n",
    "import numpy as np"
   ]
  },
  {
   "cell_type": "code",
   "execution_count": 3,
   "id": "0308f518-4b21-4cba-9558-33b975f51173",
   "metadata": {},
   "outputs": [],
   "source": [
    "dat = pd.read_csv(\"Value_of_Energy_Cost_Savings_Program_Savings_for_Businesses_-_FY2020.csv\")"
   ]
  },
  {
   "cell_type": "code",
   "execution_count": 6,
   "id": "087bd148-0c79-47d3-a36a-11735a02419d",
   "metadata": {},
   "outputs": [
    {
     "data": {
      "text/plain": [
       "(450, 26)"
      ]
     },
     "execution_count": 6,
     "metadata": {},
     "output_type": "execute_result"
    }
   ],
   "source": [
    "dat.shape"
   ]
  },
  {
   "cell_type": "markdown",
   "id": "5c511b89-77fe-4e81-8276-526a7696225e",
   "metadata": {},
   "source": [
    "#### Question 1) 439 Companies represented in the data set"
   ]
  },
  {
   "cell_type": "code",
   "execution_count": 12,
   "id": "425ac60f-5290-41f7-88d9-ee48ed280d79",
   "metadata": {},
   "outputs": [
    {
     "data": {
      "text/plain": [
       "439"
      ]
     },
     "execution_count": 12,
     "metadata": {},
     "output_type": "execute_result"
    }
   ],
   "source": [
    "len(dat['Company Name'].unique())"
   ]
  },
  {
   "cell_type": "markdown",
   "id": "1f78bd64-c311-4663-8569-4165498e7252",
   "metadata": {},
   "source": [
    "# Question 2) 102 jobs created in Queens"
   ]
  },
  {
   "cell_type": "code",
   "execution_count": 10,
   "id": "0f2e761c-1c4b-49b2-86d9-2a9126ae4562",
   "metadata": {},
   "outputs": [
    {
     "data": {
      "text/plain": [
       "Borough\n",
       "Bronx             22.0\n",
       "Brooklyn          25.0\n",
       "New York           0.0\n",
       "Queens           102.0\n",
       "Staten Island      0.0\n",
       "Name: Job created, dtype: float64"
      ]
     },
     "execution_count": 10,
     "metadata": {},
     "output_type": "execute_result"
    }
   ],
   "source": [
    "dat['Job created'].groupby(dat['Borough']).sum()"
   ]
  },
  {
   "cell_type": "markdown",
   "id": "4218d5c6-5bc7-4b65-b162-9dc455a1ad48",
   "metadata": {},
   "source": [
    "# Question 3) How many unique different email domains are there in the data set? 357 email domains"
   ]
  },
  {
   "cell_type": "code",
   "execution_count": 20,
   "id": "cb5cdf1e-34b7-4190-a276-ff7f5b40f472",
   "metadata": {},
   "outputs": [
    {
     "data": {
      "text/plain": [
       "357"
      ]
     },
     "execution_count": 20,
     "metadata": {},
     "output_type": "execute_result"
    }
   ],
   "source": [
    "dat['domain'] = dat['company email'].str.split('@').str[1]\n",
    "len(dat['domain'].unique())"
   ]
  },
  {
   "cell_type": "markdown",
   "id": "8121f0a9-eef7-4889-ae0e-6bc7167480d7",
   "metadata": {},
   "source": [
    "# Question 4) Considering only NTAs with at least 5 listed businesses, what is the average total savings and the total jobs created for each NTA? "
   ]
  },
  {
   "cell_type": "code",
   "execution_count": 44,
   "id": "480b6fc3-0b08-42c9-a5a1-b7bb09d9e9d2",
   "metadata": {},
   "outputs": [
    {
     "data": {
      "text/html": [
       "<div>\n",
       "<style scoped>\n",
       "    .dataframe tbody tr th:only-of-type {\n",
       "        vertical-align: middle;\n",
       "    }\n",
       "\n",
       "    .dataframe tbody tr th {\n",
       "        vertical-align: top;\n",
       "    }\n",
       "\n",
       "    .dataframe thead th {\n",
       "        text-align: right;\n",
       "    }\n",
       "</style>\n",
       "<table border=\"1\" class=\"dataframe\">\n",
       "  <thead>\n",
       "    <tr style=\"text-align: right;\">\n",
       "      <th></th>\n",
       "      <th>Total Savings</th>\n",
       "      <th>Job created</th>\n",
       "    </tr>\n",
       "    <tr>\n",
       "      <th>NTA</th>\n",
       "      <th></th>\n",
       "      <th></th>\n",
       "    </tr>\n",
       "  </thead>\n",
       "  <tbody>\n",
       "    <tr>\n",
       "      <th>Battery Park City-Lower Manhattan</th>\n",
       "      <td>469890.796667</td>\n",
       "      <td>0.0</td>\n",
       "    </tr>\n",
       "    <tr>\n",
       "      <th>Bushwick South</th>\n",
       "      <td>26140.455000</td>\n",
       "      <td>10.0</td>\n",
       "    </tr>\n",
       "    <tr>\n",
       "      <th>Carroll Gardens-Columbia Street-Red Hook</th>\n",
       "      <td>24337.390000</td>\n",
       "      <td>0.0</td>\n",
       "    </tr>\n",
       "    <tr>\n",
       "      <th>College Point</th>\n",
       "      <td>17159.372857</td>\n",
       "      <td>2.0</td>\n",
       "    </tr>\n",
       "    <tr>\n",
       "      <th>Crown Heights North</th>\n",
       "      <td>4036.298889</td>\n",
       "      <td>0.0</td>\n",
       "    </tr>\n",
       "    <tr>\n",
       "      <th>DUMBO-Vinegar Hill-Downtown Brooklyn-Boerum Hill</th>\n",
       "      <td>59950.340000</td>\n",
       "      <td>0.0</td>\n",
       "    </tr>\n",
       "    <tr>\n",
       "      <th>East New York</th>\n",
       "      <td>48433.093333</td>\n",
       "      <td>15.0</td>\n",
       "    </tr>\n",
       "    <tr>\n",
       "      <th>East Williamsburg</th>\n",
       "      <td>13990.626364</td>\n",
       "      <td>0.0</td>\n",
       "    </tr>\n",
       "    <tr>\n",
       "      <th>Greenpoint</th>\n",
       "      <td>9753.649286</td>\n",
       "      <td>0.0</td>\n",
       "    </tr>\n",
       "    <tr>\n",
       "      <th>Hunters Point-Sunnyside-West Maspeth</th>\n",
       "      <td>23931.398933</td>\n",
       "      <td>0.0</td>\n",
       "    </tr>\n",
       "    <tr>\n",
       "      <th>Hunts Point</th>\n",
       "      <td>39246.016154</td>\n",
       "      <td>12.0</td>\n",
       "    </tr>\n",
       "    <tr>\n",
       "      <th>Manhattanville</th>\n",
       "      <td>2760.888889</td>\n",
       "      <td>0.0</td>\n",
       "    </tr>\n",
       "    <tr>\n",
       "      <th>Maspeth</th>\n",
       "      <td>6658.283333</td>\n",
       "      <td>10.0</td>\n",
       "    </tr>\n",
       "    <tr>\n",
       "      <th>Mott Haven-Port Morris</th>\n",
       "      <td>17843.937857</td>\n",
       "      <td>10.0</td>\n",
       "    </tr>\n",
       "    <tr>\n",
       "      <th>Queensbridge-Ravenswood-Long Island City</th>\n",
       "      <td>61830.770625</td>\n",
       "      <td>0.0</td>\n",
       "    </tr>\n",
       "    <tr>\n",
       "      <th>SoHo-TriBeCa-Civic Center-Little Italy</th>\n",
       "      <td>37214.024000</td>\n",
       "      <td>0.0</td>\n",
       "    </tr>\n",
       "    <tr>\n",
       "      <th>Springfield Gardens South-Brookville</th>\n",
       "      <td>17757.662000</td>\n",
       "      <td>0.0</td>\n",
       "    </tr>\n",
       "    <tr>\n",
       "      <th>Steinway</th>\n",
       "      <td>11227.155714</td>\n",
       "      <td>20.0</td>\n",
       "    </tr>\n",
       "    <tr>\n",
       "      <th>Sunset Park West</th>\n",
       "      <td>14316.976875</td>\n",
       "      <td>0.0</td>\n",
       "    </tr>\n",
       "    <tr>\n",
       "      <th>park-cemetery-etc-Brooklyn</th>\n",
       "      <td>14327.419333</td>\n",
       "      <td>0.0</td>\n",
       "    </tr>\n",
       "  </tbody>\n",
       "</table>\n",
       "</div>"
      ],
      "text/plain": [
       "                                                  Total Savings  Job created\n",
       "NTA                                                                         \n",
       "Battery Park City-Lower Manhattan                 469890.796667          0.0\n",
       "Bushwick South                                     26140.455000         10.0\n",
       "Carroll Gardens-Columbia Street-Red Hook           24337.390000          0.0\n",
       "College Point                                      17159.372857          2.0\n",
       "Crown Heights North                                 4036.298889          0.0\n",
       "DUMBO-Vinegar Hill-Downtown Brooklyn-Boerum Hill   59950.340000          0.0\n",
       "East New York                                      48433.093333         15.0\n",
       "East Williamsburg                                  13990.626364          0.0\n",
       "Greenpoint                                          9753.649286          0.0\n",
       "Hunters Point-Sunnyside-West Maspeth               23931.398933          0.0\n",
       "Hunts Point                                        39246.016154         12.0\n",
       "Manhattanville                                      2760.888889          0.0\n",
       "Maspeth                                             6658.283333         10.0\n",
       "Mott Haven-Port Morris                             17843.937857         10.0\n",
       "Queensbridge-Ravenswood-Long Island City           61830.770625          0.0\n",
       "SoHo-TriBeCa-Civic Center-Little Italy             37214.024000          0.0\n",
       "Springfield Gardens South-Brookville               17757.662000          0.0\n",
       "Steinway                                           11227.155714         20.0\n",
       "Sunset Park West                                   14316.976875          0.0\n",
       "park-cemetery-etc-Brooklyn                         14327.419333          0.0"
      ]
     },
     "execution_count": 44,
     "metadata": {},
     "output_type": "execute_result"
    }
   ],
   "source": [
    "nta_dat = dat[['NTA','Company Name','Total Savings', 'Job created']]\n",
    "vc = nta_dat['NTA'].value_counts()\n",
    "nta_dat = nta_dat[nta_dat['NTA'].isin(vc.index[vc.gt(4)])]\n",
    "nta_dat.shape\n",
    "\n",
    "nta = pd.DataFrame(nta_dat['Total Savings'].groupby(nta_dat['NTA']).mean())\n",
    "nta['Job created'] = (nta_dat['Job created'].groupby(nta_dat['NTA']).sum())\n",
    "\n",
    "nta"
   ]
  },
  {
   "cell_type": "markdown",
   "id": "0b3454c0-a547-4a8f-9947-71f6f243f0c6",
   "metadata": {},
   "source": [
    "# Question 5) Save your result for the previous question as a CSV file."
   ]
  },
  {
   "cell_type": "code",
   "execution_count": 45,
   "id": "ae4809fc-a453-4bde-936f-308199f47729",
   "metadata": {},
   "outputs": [],
   "source": [
    "nta.to_csv('nta.csv')"
   ]
  },
  {
   "cell_type": "markdown",
   "id": "bd1c6257-bfcc-46db-bb2e-7ea74b24e468",
   "metadata": {},
   "source": [
    "## Day 5: Plotting\n",
    "Using the same data set and results that you were working with in the pandas action items section (Day 4), create a\n",
    "\n",
    "    scatter plot of jobs created versus average savings. \n",
    "    Use both a standard and a logarithmic scale for the average savings.\n",
    "    histogram of the log of the average total savings.\n",
    "    line plot of the total jobs created for each month.\n"
   ]
  },
  {
   "cell_type": "code",
   "execution_count": 46,
   "id": "27da252f-360b-4fcc-b6da-da07417f37b8",
   "metadata": {},
   "outputs": [],
   "source": [
    "import seaborn as sns"
   ]
  },
  {
   "cell_type": "code",
   "execution_count": 53,
   "id": "27438056-79cb-4afb-a983-71216c62659b",
   "metadata": {},
   "outputs": [
    {
     "data": {
      "image/png": "[encoded data removed]",
      "text/plain": [
       "<Figure size 432x288 with 1 Axes>"
      ]
     },
     "metadata": {
      "needs_background": "light"
     },
     "output_type": "display_data"
    }
   ],
   "source": [
    "splot = sns.scatterplot(x=nta['Job created'],y=nta['Total Savings'])"
   ]
  },
  {
   "cell_type": "code",
   "execution_count": 55,
   "id": "674e6e1c-44b1-4704-adf1-ffe945d27e74",
   "metadata": {},
   "outputs": [
    {
     "data": {
      "text/plain": [
       "[None]"
      ]
     },
     "execution_count": 55,
     "metadata": {},
     "output_type": "execute_result"
    },
    {
     "data": {
      "image/png": "[encoded data removed]",
      "text/plain": [
       "<Figure size 432x288 with 1 Axes>"
      ]
     },
     "metadata": {
      "needs_background": "light"
     },
     "output_type": "display_data"
    }
   ],
   "source": [
    "splot = sns.scatterplot(x=nta['Job created'],y=nta['Total Savings'])\n",
    "splot.set(yscale=\"log\")"
   ]
  },
  {
   "cell_type": "code",
   "execution_count": 67,
   "id": "daf07f93-5077-49c4-982c-24914c7f4710",
   "metadata": {},
   "outputs": [
    {
     "data": {
      "text/plain": [
       "Text(0.5, 1.0, 'Histogram of log(Total Average Savings)')"
      ]
     },
     "execution_count": 67,
     "metadata": {},
     "output_type": "execute_result"
    },
    {
     "data": {
      "image/png": "[encoded data removed]",
      "text/plain": [
       "<Figure size 432x288 with 1 Axes>"
      ]
     },
     "metadata": {
      "needs_background": "light"
     },
     "output_type": "display_data"
    }
   ],
   "source": [
    "hplot = sns.histplot(np.log(nta['Total Savings']))\n",
    "plt.xlabel(\"log(Total Average Savings)\")\n",
    "plt.title(\"Histogram of log(Total Average Savings)\")"
   ]
  },
  {
   "cell_type": "code",
   "execution_count": 94,
   "id": "e71e605a-29b9-49ba-9c5a-4c7b41348ffa",
   "metadata": {},
   "outputs": [
    {
     "data": {
      "text/plain": [
       "<AxesSubplot:xlabel='month', ylabel='Job created'>"
      ]
     },
     "execution_count": 94,
     "metadata": {},
     "output_type": "execute_result"
    },
    {
     "data": {
      "image/png": "[encoded data removed]",
      "text/plain": [
       "<Figure size 432x288 with 1 Axes>"
      ]
     },
     "metadata": {
      "needs_background": "light"
     },
     "output_type": "display_data"
    }
   ],
   "source": [
    "from datetime import datetime\n",
    "dat ['Effective Date']=pd.to_datetime (dat['Effective Date'])\n",
    "dat['month'] = dat['Effective Date'].dt.month\n",
    "lpdat = dat['Job created'].groupby(dat['month']).mean()\n",
    "lpdat = pd.DataFrame(lpdat)\n",
    "lpdat\n",
    "sns.lineplot(x=\"month\", y = \"Job created\", data = lpdat)"
   ]
  },
  {
   "cell_type": "code",
   "execution_count": null,
   "id": "5b7f8aca-4826-4627-ada0-f211e82fa04a",
   "metadata": {},
   "outputs": [],
   "source": []
  }
 ],
 "metadata": {
  "kernelspec": {
   "display_name": "Python 3 (ipykernel)",
   "language": "python",
   "name": "python3"
  },
  "language_info": {
   "codemirror_mode": {
    "name": "ipython",
    "version": 3
   },
   "file_extension": ".py",
   "mimetype": "text/x-python",
   "name": "python",
   "nbconvert_exporter": "python",
   "pygments_lexer": "ipython3",
   "version": "3.9.7"
  }
 },
 "nbformat": 4,
 "nbformat_minor": 5
}
